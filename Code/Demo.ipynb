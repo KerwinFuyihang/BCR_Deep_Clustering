{
 "cells": [
  {
   "cell_type": "code",
   "execution_count": 2,
   "metadata": {},
   "outputs": [],
   "source": [
    "import sys\n",
    "sys.path.append('/root')\n",
    "\n",
    "import pandas as pd\n",
    "import torch\n",
    "import matplotlib.pyplot as plt\n",
    "from sklearn.metrics.pairwise import cosine_distances\n",
    "from DataProcessor import DataProcessor  # Assuming DataProcessor.py is in the same directory\n",
    "from Cluster import EmbeddingProcessor, Cluster  # Assuming Cluster.py is in the same directory\n"
   ]
  },
  {
   "cell_type": "code",
   "execution_count": null,
   "metadata": {},
   "outputs": [],
   "source": [
    "# Initialize DataProcessor with the file path\n",
    "file_path = '/root/Simulated_Data_input/I0026_mono_vquest_airr.tsv'\n",
    "data_processor = DataProcessor(file_path)\n",
    "\n",
    "# Load the data into a DataFrame\n",
    "df = data_processor.load_data()\n",
    "\n",
    "# Ensure all sequences are uppercase\n",
    "df = data_processor.ensure_uppercase_sequences(df)\n",
    "\n",
    "# Extract the sequences for further processing\n",
    "sequences = df['sequence'].tolist()\n",
    "\n",
    "# (Assuming you have a SequenceEncoder class similar to the one in your example)\n",
    "# Initialize the SequenceEncoder (assuming you have this class)\n",
    "encoder = SequenceEncoder(model_directory='/root/Model/DNABERT_s')\n",
    "\n",
    "# Encode the sequences into embeddings\n",
    "embeddings = encoder.encode_sequences(sequences)\n"
   ]
  },
  {
   "cell_type": "code",
   "execution_count": null,
   "metadata": {},
   "outputs": [],
   "source": [
    "# Use EmbeddingProcessor to normalize embeddings\n",
    "embedding_processor = EmbeddingProcessor(embeddings)\n",
    "norm_embeddings = embedding_processor.normalize_embeddings()\n",
    "\n",
    "# Calculate cosine distances between normalized embeddings\n",
    "cos_dist = embedding_processor.calculate_distance(norm_embeddings, distance_type='cosine')\n"
   ]
  },
  {
   "cell_type": "code",
   "execution_count": null,
   "metadata": {},
   "outputs": [],
   "source": [
    "# Initialize the Cluster class with the calculated distance matrix\n",
    "cluster = Cluster(cos_dist)\n",
    "\n",
    "# Draw the dendrogram to visualize the clustering\n",
    "cluster.draw_dendrogram()\n",
    "\n",
    "# Perform hierarchical clustering with a specified threshold\n",
    "threshold = 0.00015  # Example threshold; adjust based on your dendrogram analysis\n",
    "clusters = cluster.hierarchical_cluster(threshold)\n",
    "\n",
    "# Print the resulting clusters\n",
    "print(clusters)\n"
   ]
  }
 ],
 "metadata": {
  "kernelspec": {
   "display_name": "base",
   "language": "python",
   "name": "python3"
  },
  "language_info": {
   "codemirror_mode": {
    "name": "ipython",
    "version": 3
   },
   "file_extension": ".py",
   "mimetype": "text/x-python",
   "name": "python",
   "nbconvert_exporter": "python",
   "pygments_lexer": "ipython3",
   "version": "3.10.8"
  }
 },
 "nbformat": 4,
 "nbformat_minor": 2
}
